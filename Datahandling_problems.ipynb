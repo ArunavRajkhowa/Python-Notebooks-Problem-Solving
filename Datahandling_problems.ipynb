{
 "cells": [
  {
   "cell_type": "code",
   "execution_count": 1,
   "id": "fa74009d",
   "metadata": {},
   "outputs": [],
   "source": [
    "import pandas as pd\n",
    "import numpy as np"
   ]
  },
  {
   "cell_type": "markdown",
   "id": "b00dfaed",
   "metadata": {},
   "source": [
    "# Write the code to find id corresponding to maximum absolute difference between x and y . Then write code to find how many observations have strictly lower value of x , than the value of x corresponding to that id."
   ]
  },
  {
   "cell_type": "code",
   "execution_count": 54,
   "id": "00da6182",
   "metadata": {},
   "outputs": [],
   "source": [
    "d=pd.DataFrame({'id':np.random.choice(range(1,100),30,replace=False),'x':np.random.randint(1,100,30),\n",
    " 'y':np.random.randint(1,100,30)})"
   ]
  },
  {
   "cell_type": "code",
   "execution_count": 61,
   "id": "ddb0c21e",
   "metadata": {},
   "outputs": [
    {
     "data": {
      "text/html": [
       "<div><div id=a7d6d90c-6b96-4b99-90d2-074fc445fbab style=\"display:none; background-color:#9D6CFF; color:white; width:200px; height:30px; padding-left:5px; border-radius:4px; flex-direction:row; justify-content:space-around; align-items:center;\" onmouseover=\"this.style.backgroundColor='#BA9BF8'\" onmouseout=\"this.style.backgroundColor='#9D6CFF'\" onclick=\"window.commands?.execute('create-mitosheet-from-dataframe-output');\">See Full Dataframe in Mito</div> <script> if (window.commands?.hasCommand('create-mitosheet-from-dataframe-output')) document.getElementById('a7d6d90c-6b96-4b99-90d2-074fc445fbab').style.display = 'flex' </script> <table border=\"1\" class=\"dataframe\">\n",
       "  <thead>\n",
       "    <tr style=\"text-align: right;\">\n",
       "      <th></th>\n",
       "      <th>id</th>\n",
       "      <th>x</th>\n",
       "      <th>y</th>\n",
       "    </tr>\n",
       "  </thead>\n",
       "  <tbody>\n",
       "    <tr>\n",
       "      <th>0</th>\n",
       "      <td>40</td>\n",
       "      <td>12</td>\n",
       "      <td>22</td>\n",
       "    </tr>\n",
       "    <tr>\n",
       "      <th>1</th>\n",
       "      <td>59</td>\n",
       "      <td>33</td>\n",
       "      <td>96</td>\n",
       "    </tr>\n",
       "    <tr>\n",
       "      <th>2</th>\n",
       "      <td>83</td>\n",
       "      <td>88</td>\n",
       "      <td>83</td>\n",
       "    </tr>\n",
       "    <tr>\n",
       "      <th>3</th>\n",
       "      <td>31</td>\n",
       "      <td>67</td>\n",
       "      <td>94</td>\n",
       "    </tr>\n",
       "    <tr>\n",
       "      <th>4</th>\n",
       "      <td>36</td>\n",
       "      <td>35</td>\n",
       "      <td>5</td>\n",
       "    </tr>\n",
       "    <tr>\n",
       "      <th>...</th>\n",
       "      <td>...</td>\n",
       "      <td>...</td>\n",
       "      <td>...</td>\n",
       "    </tr>\n",
       "    <tr>\n",
       "      <th>13</th>\n",
       "      <td>67</td>\n",
       "      <td>45</td>\n",
       "      <td>92</td>\n",
       "    </tr>\n",
       "    <tr>\n",
       "      <th>14</th>\n",
       "      <td>75</td>\n",
       "      <td>45</td>\n",
       "      <td>51</td>\n",
       "    </tr>\n",
       "    <tr>\n",
       "      <th>15</th>\n",
       "      <td>28</td>\n",
       "      <td>45</td>\n",
       "      <td>92</td>\n",
       "    </tr>\n",
       "    <tr>\n",
       "      <th>16</th>\n",
       "      <td>16</td>\n",
       "      <td>12</td>\n",
       "      <td>98</td>\n",
       "    </tr>\n",
       "    <tr>\n",
       "      <th>17</th>\n",
       "      <td>82</td>\n",
       "      <td>57</td>\n",
       "      <td>54</td>\n",
       "    </tr>\n",
       "  </tbody>\n",
       "</table></div>"
      ],
      "text/plain": [
       "    id   x   y\n",
       "0   40  12  22\n",
       "1   59  33  96\n",
       "2   83  88  83\n",
       "3   31  67  94\n",
       "4   36  35   5\n",
       "5   19  24  11\n",
       "6   25  55  29\n",
       "7   90  34  75\n",
       "8   55  79  39\n",
       "9    9  63  79\n",
       "10  17  32  88\n",
       "11  49  88  95\n",
       "12  74   4   8\n",
       "13  67  45  92\n",
       "14  75  45  51\n",
       "15  28  45  92\n",
       "16  16  12  98\n",
       "17  82  57  54"
      ]
     },
     "execution_count": 61,
     "metadata": {},
     "output_type": "execute_result"
    }
   ],
   "source": [
    "d.head(18)"
   ]
  },
  {
   "cell_type": "code",
   "execution_count": 62,
   "id": "d239ff0a",
   "metadata": {},
   "outputs": [],
   "source": [
    "#d.loc[np.fabs(d['x']-d['y']),d['id'].idxmax()]"
   ]
  },
  {
   "cell_type": "code",
   "execution_count": 66,
   "id": "4c9afa00",
   "metadata": {},
   "outputs": [
    {
     "name": "stdout",
     "output_type": "stream",
     "text": [
      "16\n"
     ]
    }
   ],
   "source": [
    "max_id=d['id'][(np.fabs(d['x']-d['y'])).idxmax() ] #Dataframe.idxmax() returns the maximum index position\n",
    "print(max_id)"
   ]
  },
  {
   "cell_type": "code",
   "execution_count": 67,
   "id": "30465cbd",
   "metadata": {},
   "outputs": [
    {
     "data": {
      "text/plain": [
       "id    19\n",
       "x     21\n",
       "y     16\n",
       "dtype: int64"
      ]
     },
     "execution_count": 67,
     "metadata": {},
     "output_type": "execute_result"
    }
   ],
   "source": [
    "####extra\n",
    "d.idxmax() #returning the index positions for maximum value for each column"
   ]
  },
  {
   "cell_type": "code",
   "execution_count": 70,
   "id": "79f2f845",
   "metadata": {},
   "outputs": [
    {
     "name": "stdout",
     "output_type": "stream",
     "text": [
      "12\n"
     ]
    }
   ],
   "source": [
    "x_val= int(d['x'][d['id']==max_id]) #returns index and value of x. use int to get only the value of x\n",
    "print(x_val)"
   ]
  },
  {
   "cell_type": "code",
   "execution_count": 71,
   "id": "ab904d1a",
   "metadata": {},
   "outputs": [
    {
     "data": {
      "text/plain": [
       "3"
      ]
     },
     "execution_count": 71,
     "metadata": {},
     "output_type": "execute_result"
    }
   ],
   "source": [
    "(d['x']<x_val).sum()\n"
   ]
  },
  {
   "cell_type": "markdown",
   "id": "b63a2821",
   "metadata": {},
   "source": [
    "# Write code to find average sales across months . Write code to find which category had minimum sales for the second quarter .\n",
    "\n",
    "## Additional Information :\n",
    "## =>You can extract different components [month, year, week etc] from a datetime type pandas series using following data[col_name].dt.month .\n",
    "\n",
    "## => You can convert an object type column containing dates to datetime type by using pd.to_datetime"
   ]
  },
  {
   "cell_type": "code",
   "execution_count": 72,
   "id": "ae02e1a6",
   "metadata": {},
   "outputs": [
    {
     "name": "stderr",
     "output_type": "stream",
     "text": [
      "C:\\Users\\aruna\\AppData\\Local\\Temp\\ipykernel_4280\\2553827238.py:6: UserWarning: Parsing '23-12-2020' in DD/MM/YYYY format. Provide format or specify infer_datetime_format=True for consistent parsing.\n",
      "  d2=pd.to_datetime('23-12-2020').toordinal()\n"
     ]
    }
   ],
   "source": [
    "#given dataset\n",
    "import pandas as pd\n",
    "import numpy as np\n",
    "from datetime import date\n",
    "d1=pd.to_datetime('23-1-2020').toordinal()\n",
    "d2=pd.to_datetime('23-12-2020').toordinal() #1 year data\n",
    "df=pd.DataFrame({\n",
    " 'date':[date.fromordinal(np.random.randint(d1, d2)) for i in range(100)],\n",
    " 'sales':np.random.randint(100,500,100),\n",
    "\n",
    "'category':np.random.choice(['Apparels','Cosmetics','Toys','Consumables'],100)\n",
    "})"
   ]
  },
  {
   "cell_type": "code",
   "execution_count": 73,
   "id": "d9925e40",
   "metadata": {},
   "outputs": [
    {
     "data": {
      "text/html": [
       "<div><div id=af731b50-8da3-4501-9e5d-b158a86a1569 style=\"display:none; background-color:#9D6CFF; color:white; width:200px; height:30px; padding-left:5px; border-radius:4px; flex-direction:row; justify-content:space-around; align-items:center;\" onmouseover=\"this.style.backgroundColor='#BA9BF8'\" onmouseout=\"this.style.backgroundColor='#9D6CFF'\" onclick=\"window.commands?.execute('create-mitosheet-from-dataframe-output');\">See Full Dataframe in Mito</div> <script> if (window.commands?.hasCommand('create-mitosheet-from-dataframe-output')) document.getElementById('af731b50-8da3-4501-9e5d-b158a86a1569').style.display = 'flex' </script> <table border=\"1\" class=\"dataframe\">\n",
       "  <thead>\n",
       "    <tr style=\"text-align: right;\">\n",
       "      <th></th>\n",
       "      <th>date</th>\n",
       "      <th>sales</th>\n",
       "      <th>category</th>\n",
       "    </tr>\n",
       "  </thead>\n",
       "  <tbody>\n",
       "    <tr>\n",
       "      <th>0</th>\n",
       "      <td>2020-05-11</td>\n",
       "      <td>229</td>\n",
       "      <td>Cosmetics</td>\n",
       "    </tr>\n",
       "    <tr>\n",
       "      <th>1</th>\n",
       "      <td>2020-05-14</td>\n",
       "      <td>242</td>\n",
       "      <td>Consumables</td>\n",
       "    </tr>\n",
       "    <tr>\n",
       "      <th>2</th>\n",
       "      <td>2020-03-15</td>\n",
       "      <td>279</td>\n",
       "      <td>Toys</td>\n",
       "    </tr>\n",
       "    <tr>\n",
       "      <th>3</th>\n",
       "      <td>2020-06-02</td>\n",
       "      <td>498</td>\n",
       "      <td>Cosmetics</td>\n",
       "    </tr>\n",
       "    <tr>\n",
       "      <th>4</th>\n",
       "      <td>2020-07-19</td>\n",
       "      <td>157</td>\n",
       "      <td>Toys</td>\n",
       "    </tr>\n",
       "    <tr>\n",
       "      <th>...</th>\n",
       "      <td>...</td>\n",
       "      <td>...</td>\n",
       "      <td>...</td>\n",
       "    </tr>\n",
       "    <tr>\n",
       "      <th>95</th>\n",
       "      <td>2020-08-19</td>\n",
       "      <td>461</td>\n",
       "      <td>Consumables</td>\n",
       "    </tr>\n",
       "    <tr>\n",
       "      <th>96</th>\n",
       "      <td>2020-06-15</td>\n",
       "      <td>302</td>\n",
       "      <td>Toys</td>\n",
       "    </tr>\n",
       "    <tr>\n",
       "      <th>97</th>\n",
       "      <td>2020-06-30</td>\n",
       "      <td>488</td>\n",
       "      <td>Apparels</td>\n",
       "    </tr>\n",
       "    <tr>\n",
       "      <th>98</th>\n",
       "      <td>2020-08-07</td>\n",
       "      <td>112</td>\n",
       "      <td>Toys</td>\n",
       "    </tr>\n",
       "    <tr>\n",
       "      <th>99</th>\n",
       "      <td>2020-07-17</td>\n",
       "      <td>466</td>\n",
       "      <td>Toys</td>\n",
       "    </tr>\n",
       "  </tbody>\n",
       "</table></div>"
      ],
      "text/plain": [
       "          date  sales     category\n",
       "0   2020-05-11    229    Cosmetics\n",
       "1   2020-05-14    242  Consumables\n",
       "2   2020-03-15    279         Toys\n",
       "3   2020-06-02    498    Cosmetics\n",
       "4   2020-07-19    157         Toys\n",
       "..         ...    ...          ...\n",
       "95  2020-08-19    461  Consumables\n",
       "96  2020-06-15    302         Toys\n",
       "97  2020-06-30    488     Apparels\n",
       "98  2020-08-07    112         Toys\n",
       "99  2020-07-17    466         Toys\n",
       "\n",
       "[100 rows x 3 columns]"
      ]
     },
     "execution_count": 73,
     "metadata": {},
     "output_type": "execute_result"
    }
   ],
   "source": [
    "df"
   ]
  },
  {
   "cell_type": "code",
   "execution_count": 75,
   "id": "90d1b086",
   "metadata": {},
   "outputs": [
    {
     "data": {
      "text/plain": [
       "date        object\n",
       "sales        int32\n",
       "category    object\n",
       "dtype: object"
      ]
     },
     "execution_count": 75,
     "metadata": {},
     "output_type": "execute_result"
    }
   ],
   "source": [
    "df.dtypes"
   ]
  },
  {
   "cell_type": "code",
   "execution_count": 77,
   "id": "7bdccef8",
   "metadata": {},
   "outputs": [
    {
     "data": {
      "text/plain": [
       "date        datetime64[ns]\n",
       "sales                int32\n",
       "category            object\n",
       "dtype: object"
      ]
     },
     "execution_count": 77,
     "metadata": {},
     "output_type": "execute_result"
    }
   ],
   "source": [
    "#changing object type date to datetime\n",
    "df['date']=pd.to_datetime(df['date'])\n",
    "df.dtypes"
   ]
  },
  {
   "cell_type": "code",
   "execution_count": 79,
   "id": "05395d07",
   "metadata": {},
   "outputs": [
    {
     "data": {
      "text/plain": [
       "0     5\n",
       "1     5\n",
       "2     3\n",
       "3     6\n",
       "4     7\n",
       "     ..\n",
       "95    8\n",
       "96    6\n",
       "97    6\n",
       "98    8\n",
       "99    7\n",
       "Name: month, Length: 100, dtype: int64"
      ]
     },
     "execution_count": 79,
     "metadata": {},
     "output_type": "execute_result"
    }
   ],
   "source": [
    "df['month'] = df['date'].dt.month\n",
    "df['month']"
   ]
  },
  {
   "cell_type": "code",
   "execution_count": 80,
   "id": "a1dbd707",
   "metadata": {},
   "outputs": [
    {
     "data": {
      "text/plain": [
       "month\n",
       "2     285.666667\n",
       "3     299.000000\n",
       "4     334.142857\n",
       "5     281.900000\n",
       "6     307.642857\n",
       "7     285.500000\n",
       "8     286.600000\n",
       "9     342.857143\n",
       "10    287.000000\n",
       "11    318.200000\n",
       "12    265.888889\n",
       "Name: sales, dtype: float64"
      ]
     },
     "execution_count": 80,
     "metadata": {},
     "output_type": "execute_result"
    }
   ],
   "source": [
    "df.groupby(['month'])['sales'].mean()"
   ]
  },
  {
   "cell_type": "code",
   "execution_count": 91,
   "id": "f8597459",
   "metadata": {},
   "outputs": [
    {
     "data": {
      "text/html": [
       "<div><div id=70014684-3c59-4acb-a38f-a26c8aac939d style=\"display:none; background-color:#9D6CFF; color:white; width:200px; height:30px; padding-left:5px; border-radius:4px; flex-direction:row; justify-content:space-around; align-items:center;\" onmouseover=\"this.style.backgroundColor='#BA9BF8'\" onmouseout=\"this.style.backgroundColor='#9D6CFF'\" onclick=\"window.commands?.execute('create-mitosheet-from-dataframe-output');\">See Full Dataframe in Mito</div> <script> if (window.commands?.hasCommand('create-mitosheet-from-dataframe-output')) document.getElementById('70014684-3c59-4acb-a38f-a26c8aac939d').style.display = 'flex' </script> <table border=\"1\" class=\"dataframe\">\n",
       "  <thead>\n",
       "    <tr style=\"text-align: right;\">\n",
       "      <th></th>\n",
       "      <th>date</th>\n",
       "      <th>sales</th>\n",
       "      <th>category</th>\n",
       "      <th>month</th>\n",
       "      <th>quater</th>\n",
       "    </tr>\n",
       "  </thead>\n",
       "  <tbody>\n",
       "    <tr>\n",
       "      <th>0</th>\n",
       "      <td>2020-05-11</td>\n",
       "      <td>229</td>\n",
       "      <td>Cosmetics</td>\n",
       "      <td>5</td>\n",
       "      <td>2</td>\n",
       "    </tr>\n",
       "    <tr>\n",
       "      <th>1</th>\n",
       "      <td>2020-05-14</td>\n",
       "      <td>242</td>\n",
       "      <td>Consumables</td>\n",
       "      <td>5</td>\n",
       "      <td>2</td>\n",
       "    </tr>\n",
       "    <tr>\n",
       "      <th>2</th>\n",
       "      <td>2020-03-15</td>\n",
       "      <td>279</td>\n",
       "      <td>Toys</td>\n",
       "      <td>3</td>\n",
       "      <td>1</td>\n",
       "    </tr>\n",
       "    <tr>\n",
       "      <th>3</th>\n",
       "      <td>2020-06-02</td>\n",
       "      <td>498</td>\n",
       "      <td>Cosmetics</td>\n",
       "      <td>6</td>\n",
       "      <td>2</td>\n",
       "    </tr>\n",
       "    <tr>\n",
       "      <th>4</th>\n",
       "      <td>2020-07-19</td>\n",
       "      <td>157</td>\n",
       "      <td>Toys</td>\n",
       "      <td>7</td>\n",
       "      <td>3</td>\n",
       "    </tr>\n",
       "    <tr>\n",
       "      <th>...</th>\n",
       "      <td>...</td>\n",
       "      <td>...</td>\n",
       "      <td>...</td>\n",
       "      <td>...</td>\n",
       "      <td>...</td>\n",
       "    </tr>\n",
       "    <tr>\n",
       "      <th>95</th>\n",
       "      <td>2020-08-19</td>\n",
       "      <td>461</td>\n",
       "      <td>Consumables</td>\n",
       "      <td>8</td>\n",
       "      <td>3</td>\n",
       "    </tr>\n",
       "    <tr>\n",
       "      <th>96</th>\n",
       "      <td>2020-06-15</td>\n",
       "      <td>302</td>\n",
       "      <td>Toys</td>\n",
       "      <td>6</td>\n",
       "      <td>2</td>\n",
       "    </tr>\n",
       "    <tr>\n",
       "      <th>97</th>\n",
       "      <td>2020-06-30</td>\n",
       "      <td>488</td>\n",
       "      <td>Apparels</td>\n",
       "      <td>6</td>\n",
       "      <td>2</td>\n",
       "    </tr>\n",
       "    <tr>\n",
       "      <th>98</th>\n",
       "      <td>2020-08-07</td>\n",
       "      <td>112</td>\n",
       "      <td>Toys</td>\n",
       "      <td>8</td>\n",
       "      <td>3</td>\n",
       "    </tr>\n",
       "    <tr>\n",
       "      <th>99</th>\n",
       "      <td>2020-07-17</td>\n",
       "      <td>466</td>\n",
       "      <td>Toys</td>\n",
       "      <td>7</td>\n",
       "      <td>3</td>\n",
       "    </tr>\n",
       "  </tbody>\n",
       "</table></div>"
      ],
      "text/plain": [
       "         date  sales     category  month  quater\n",
       "0  2020-05-11    229    Cosmetics      5       2\n",
       "1  2020-05-14    242  Consumables      5       2\n",
       "2  2020-03-15    279         Toys      3       1\n",
       "3  2020-06-02    498    Cosmetics      6       2\n",
       "4  2020-07-19    157         Toys      7       3\n",
       "..        ...    ...          ...    ...     ...\n",
       "95 2020-08-19    461  Consumables      8       3\n",
       "96 2020-06-15    302         Toys      6       2\n",
       "97 2020-06-30    488     Apparels      6       2\n",
       "98 2020-08-07    112         Toys      8       3\n",
       "99 2020-07-17    466         Toys      7       3\n",
       "\n",
       "[100 rows x 5 columns]"
      ]
     },
     "execution_count": 91,
     "metadata": {},
     "output_type": "execute_result"
    }
   ],
   "source": [
    "# Write code to find which category had minimum sales for the second quarter .\n",
    "df['quater'] = df['date'].dt.quarter\n",
    "df\n",
    "\n"
   ]
  },
  {
   "cell_type": "code",
   "execution_count": 96,
   "id": "26524d28",
   "metadata": {},
   "outputs": [
    {
     "data": {
      "text/plain": [
       "category\n",
       "Apparels       349.375000\n",
       "Consumables    290.250000\n",
       "Cosmetics      268.444444\n",
       "Toys           322.000000\n",
       "Name: sales, dtype: float64"
      ]
     },
     "execution_count": 96,
     "metadata": {},
     "output_type": "execute_result"
    }
   ],
   "source": [
    "a=df[df['quater']==2].groupby(['category'])['sales'].mean()\n",
    "a"
   ]
  },
  {
   "cell_type": "code",
   "execution_count": 99,
   "id": "8e7f662f",
   "metadata": {},
   "outputs": [
    {
     "data": {
      "text/plain": [
       "Index(['Cosmetics'], dtype='object', name='category')"
      ]
     },
     "execution_count": 99,
     "metadata": {},
     "output_type": "execute_result"
    }
   ],
   "source": [
    "a.index[a==min(a)]"
   ]
  },
  {
   "cell_type": "code",
   "execution_count": null,
   "id": "28d7bfb1",
   "metadata": {},
   "outputs": [],
   "source": []
  }
 ],
 "metadata": {
  "kernelspec": {
   "display_name": "Python 3 (ipykernel)",
   "language": "python",
   "name": "python3"
  },
  "language_info": {
   "codemirror_mode": {
    "name": "ipython",
    "version": 3
   },
   "file_extension": ".py",
   "mimetype": "text/x-python",
   "name": "python",
   "nbconvert_exporter": "python",
   "pygments_lexer": "ipython3",
   "version": "3.10.0"
  }
 },
 "nbformat": 4,
 "nbformat_minor": 5
}
