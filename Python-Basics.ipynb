{
 "cells": [
  {
   "cell_type": "markdown",
   "id": "b6c1b3a7",
   "metadata": {},
   "source": [
    "# Generate a list containing 50 random integers between 10 to 100. Write a program which removes all the values which are divisible by 3 from the list . Then it subtracts 1 from all the remaining values and then removes all the values divisible by 5 from the list ."
   ]
  },
  {
   "cell_type": "code",
   "execution_count": 16,
   "id": "1916dd0e",
   "metadata": {},
   "outputs": [],
   "source": [
    "import random\n",
    "old_list=[random.randrange(10, 100, 1) for i in range(50)]"
   ]
  },
  {
   "cell_type": "code",
   "execution_count": 11,
   "id": "14370cc9",
   "metadata": {},
   "outputs": [
    {
     "name": "stdout",
     "output_type": "stream",
     "text": [
      "[30, 98, 77, 96, 89, 82, 23, 77, 56, 34, 31, 10, 10, 42, 72, 97, 69, 38, 46, 28, 87, 52, 76, 25, 33, 51, 79, 26, 51, 68, 33, 84, 38, 31, 55, 32, 50, 36, 91, 41, 20, 90, 32, 72, 35, 91, 43, 39, 19, 61]\n"
     ]
    }
   ],
   "source": [
    "print(old_list)\n"
   ]
  },
  {
   "cell_type": "code",
   "execution_count": 86,
   "id": "a63da30c",
   "metadata": {},
   "outputs": [],
   "source": [
    "for ele in old_list:\n",
    "    #print (i)\n",
    "    if ele%3==0:\n",
    "        old_list.remove(ele)\n",
    "        new_list1= [ ele-1 for ele in old_list]\n",
    "        new_list2= [ new_list1.remove(ele) for ele in new_list1 if ele %5 == 0]\n",
    "print(new_list2)"
   ]
  },
  {
   "cell_type": "code",
   "execution_count": 87,
   "id": "37437959",
   "metadata": {},
   "outputs": [],
   "source": [
    "print(\"Remove Divisible by 3: \",old_list , len(old_list))\n",
    "print(\"Subtracting 1: \",new_list3 , len(new_list3))\n",
    "print(\"Remove Divisible by 5: \",new_list2 , len(new_list2))"
   ]
  },
  {
   "cell_type": "code",
   "execution_count": 18,
   "id": "302213df",
   "metadata": {},
   "outputs": [
    {
     "name": "stdout",
     "output_type": "stream",
     "text": [
      "[29, 37, 38, 40, 17, 29, 83, 61, 34, 49, 50, 62, 47, 32, 23, 69, 92, 55, 57, 32, 56, 51, 44, 10, 73, 74, 49, 45, 17, 98, 61, 32, 53, 25, 65]\n",
      "-------------------------------------------------\n",
      "[29, 37, 38, 40, 17, 29, 83, 61, 34, 49, 50, 62, 47, 32, 23, 92, 55, 57, 32, 56, 51, 44, 10, 73, 74, 49, 45, 17, 98, 61, 32, 53, 25, 65]\n",
      "-------------------------------------------------\n",
      "[29, 37, 38, 40, 17, 29, 83, 61, 34, 49, 50, 62, 47, 32, 23, 92, 55, 32, 56, 51, 44, 10, 73, 74, 49, 45, 17, 98, 61, 32, 53, 25, 65]\n",
      "-------------------------------------------------\n",
      "[29, 37, 38, 40, 17, 29, 83, 61, 34, 49, 50, 62, 47, 32, 23, 92, 55, 32, 56, 44, 10, 73, 74, 49, 45, 17, 98, 61, 32, 53, 25, 65]\n",
      "-------------------------------------------------\n",
      "[29, 37, 38, 40, 17, 29, 83, 61, 34, 49, 50, 62, 47, 32, 23, 92, 55, 32, 56, 44, 10, 73, 74, 49, 17, 98, 61, 32, 53, 25, 65]\n",
      "-------------------------------------------------\n",
      "##################################################\n",
      "[28, 36, 37, 39, 16, 28, 82, 33, 48, 49, 61, 46, 31, 22, 91, 54, 31, 43, 9, 72, 73, 48, 16, 97, 31, 52, 24, 64]\n"
     ]
    }
   ],
   "source": [
    "for ele in old_list:\n",
    "    if ele%3==0:\n",
    "        old_list.remove(ele)\n",
    "        print (old_list)\n",
    "        print(\"-------------------------------------------------\")\n",
    "        new_list1= [ i-1 for i in old_list]\n",
    "        #print(\"new_list1\",new_list1)\n",
    "        for ele in new_list1:\n",
    "            if ele%5==0:\n",
    "                new_list1.remove(ele)\n",
    "                \n",
    "print(\"##################################################\")\n",
    "print(new_list1)"
   ]
  },
  {
   "cell_type": "markdown",
   "id": "c7ce0f10",
   "metadata": {},
   "source": [
    "#  Write a program which takes input any string and then replaces all the letters which are keys in the dictionary with their corresponding values in the dictionary. \n",
    " "
   ]
  },
  {
   "cell_type": "markdown",
   "id": "5c1fd459",
   "metadata": {},
   "source": [
    " Consider {'a':'e','b':'$','c':'q','d':'p','j':'n'}\n",
    " \n",
    "example input = 'abjected'\n",
    "\n",
    "output = 'e$neqtep'"
   ]
  },
  {
   "cell_type": "code",
   "execution_count": 6,
   "id": "4cde5ad4",
   "metadata": {},
   "outputs": [],
   "source": [
    "my_dict= {'a':'e'   ,'b':'$',   'c':'q',   'd':'p',   'j':'n'}"
   ]
  },
  {
   "cell_type": "code",
   "execution_count": 7,
   "id": "9212e24f",
   "metadata": {},
   "outputs": [],
   "source": [
    "#string = str(input(\"Give a String: \"))\n",
    "string = 'abjected'"
   ]
  },
  {
   "cell_type": "code",
   "execution_count": 8,
   "id": "32f8e79b",
   "metadata": {},
   "outputs": [
    {
     "data": {
      "text/plain": [
       "['a', 'b', 'j', 'e', 'c', 't', 'e', 'd']"
      ]
     },
     "execution_count": 8,
     "metadata": {},
     "output_type": "execute_result"
    }
   ],
   "source": [
    "my_list=list(string)\n",
    "my_list"
   ]
  },
  {
   "cell_type": "code",
   "execution_count": 9,
   "id": "4124bd34",
   "metadata": {},
   "outputs": [
    {
     "name": "stdout",
     "output_type": "stream",
     "text": [
      "Change:  a\n",
      "Change:  b\n",
      "Change:  j\n",
      "Change:  c\n",
      "Change:  d\n"
     ]
    }
   ],
   "source": [
    "for i,ele in enumerate(my_list):\n",
    "    if ele in my_dict.keys():\n",
    "        my_list[i] = my_dict[ele]\n",
    "    \n",
    "        print (\"Change: \",ele)\n",
    "\n",
    "#my_list.append(ele)\n",
    "        "
   ]
  },
  {
   "cell_type": "code",
   "execution_count": 10,
   "id": "14284c3f",
   "metadata": {},
   "outputs": [
    {
     "data": {
      "text/plain": [
       "['e', '$', 'n', 'e', 'q', 't', 'e', 'p']"
      ]
     },
     "execution_count": 10,
     "metadata": {},
     "output_type": "execute_result"
    }
   ],
   "source": [
    "my_list"
   ]
  },
  {
   "cell_type": "code",
   "execution_count": 11,
   "id": "db008b43",
   "metadata": {},
   "outputs": [
    {
     "name": "stdout",
     "output_type": "stream",
     "text": [
      "e$neqtep\n"
     ]
    }
   ],
   "source": [
    "str1 = \"\"\n",
    "# traverse in the string \n",
    "for i in my_list:\n",
    "    str1 += i \n",
    "print(str1)"
   ]
  },
  {
   "cell_type": "markdown",
   "id": "e63f6c34",
   "metadata": {},
   "source": [
    "# Write a program which takes input a list of strings and removes strings until all the remaining strings are of equal lengths . Assume that in the input list , there will be at-least two strings of the same length . For simplicity , assume that list will not contain equal length strings for multiple lengths"
   ]
  },
  {
   "cell_type": "markdown",
   "id": "546c0d67",
   "metadata": {},
   "source": [
    "example input =['abc','abcd','acbde','acbgeh','qwert']\n",
    "\n",
    "output = ['abcde','qwert']"
   ]
  },
  {
   "cell_type": "code",
   "execution_count": 32,
   "id": "4407fa5f",
   "metadata": {},
   "outputs": [],
   "source": [
    "inlist=['asdfg','sdfghj','popoioi','freud','billionaire','Rdita']"
   ]
  },
  {
   "cell_type": "code",
   "execution_count": 33,
   "id": "e0c0f3ba",
   "metadata": {},
   "outputs": [
    {
     "name": "stdout",
     "output_type": "stream",
     "text": [
      "asdfg   5\n",
      "sdfghj   6\n",
      "popoioi   7\n",
      "freud   5\n",
      "billionaire   11\n",
      "Rdita   5\n",
      "List of lengths [5, 6, 7, 5, 11, 5, 5, 6, 7, 5, 11, 5]\n"
     ]
    }
   ],
   "source": [
    "len_count=[]\n",
    "for ele in inlist:\n",
    "    print (ele , \" \" , len(ele))\n",
    "    count.append(len(ele))\n",
    "print(\"List of lengths\",count)"
   ]
  },
  {
   "cell_type": "code",
   "execution_count": 34,
   "id": "904d1390",
   "metadata": {},
   "outputs": [
    {
     "data": {
      "text/plain": [
       "{'Rdita', 'asdfg', 'billionaire', 'freud', 'popoioi', 'sdfghj'}"
      ]
     },
     "execution_count": 34,
     "metadata": {},
     "output_type": "execute_result"
    }
   ],
   "source": [
    "inlist=set(inlist) #avoiding repetition of strings if any\n",
    "inlist"
   ]
  },
  {
   "cell_type": "code",
   "execution_count": 35,
   "id": "5df0d998",
   "metadata": {},
   "outputs": [
    {
     "name": "stdout",
     "output_type": "stream",
     "text": [
      "5\n"
     ]
    }
   ],
   "source": [
    "mode = max(count,key=len_count.count) #used from solutions\n",
    "print(mode)"
   ]
  },
  {
   "cell_type": "code",
   "execution_count": 36,
   "id": "9ef6a529",
   "metadata": {},
   "outputs": [],
   "source": [
    "out_list=[]\n",
    "for i in inlist:\n",
    "    if len(i)==mode:\n",
    "        out_list.append(i)"
   ]
  },
  {
   "cell_type": "code",
   "execution_count": 37,
   "id": "06be8bcc",
   "metadata": {},
   "outputs": [
    {
     "data": {
      "text/plain": [
       "['asdfg', 'freud', 'Rdita']"
      ]
     },
     "execution_count": 37,
     "metadata": {},
     "output_type": "execute_result"
    }
   ],
   "source": [
    "out_list"
   ]
  },
  {
   "cell_type": "markdown",
   "id": "75812a8b",
   "metadata": {},
   "source": [
    "# Write a function which tells you whether you can take jugs of capacity 3 and 5 litres and fill another jug of capacity x completely with water using just these two . For simplicity assume that you can only pour into the jug of capacity x . You can not take any water out. And you start with jug of capacity x being empty. It is acceptable if you dont use any one of the jugs [of capacity 3 and 5 litres]"
   ]
  },
  {
   "cell_type": "markdown",
   "id": "dec2c14d",
   "metadata": {},
   "source": [
    "The problem is same as finding if there exist positive integer solutions for a and b in the equation 3a + 5b = x\n",
    "where is a known integer"
   ]
  },
  {
   "cell_type": "code",
   "execution_count": 20,
   "id": "cb452d3a",
   "metadata": {},
   "outputs": [],
   "source": [
    "def jug_capacity(x,c1=3,c2=5):\n",
    "    for a in range(0,int(x/c1)):\n",
    "        b=(x-c1*a)/c2\n",
    "        #b=int(b) isinstance(object, type)\n",
    "        if b.is_integer():\n",
    "            if b>=0:\n",
    "                print(\"ACCEPTED\")\n",
    "                print(\" Amount from 3 litre Jug : \",a)\n",
    "                print(\" Amount from 5 itre Jug : \",b)\n",
    "            else:\n",
    "                print (\"Negative value of Jug B detected. Rejected\")\n",
    "        else:\n",
    "            print(\"REJECTED\")\n",
    "            print(\" Amount from 3 litre Jug : \",a)\n",
    "            print(\" Amount from 5 itre Jug : \",b)\n",
    "            \n",
    "            \n",
    "    return (x)"
   ]
  },
  {
   "cell_type": "code",
   "execution_count": 24,
   "id": "545eaf9f",
   "metadata": {},
   "outputs": [
    {
     "name": "stdout",
     "output_type": "stream",
     "text": [
      "ACCEPTED\n",
      " Amount from 3 litre Jug :  0\n",
      " Amount from 5 itre Jug :  2.0\n",
      "REJECTED\n",
      " Amount from 3 litre Jug :  1\n",
      " Amount from 5 itre Jug :  1.4\n",
      "REJECTED\n",
      " Amount from 3 litre Jug :  2\n",
      " Amount from 5 itre Jug :  0.8\n"
     ]
    }
   ],
   "source": [
    "hoga_ki_nahi = jug_capacity(10)"
   ]
  },
  {
   "cell_type": "markdown",
   "id": "dd6e6e47",
   "metadata": {},
   "source": [
    "# Use dictionary comprehension to create a dictionary with keys : t1,t2,t3.......t100 which takes random integers from the range [1,100] as their corresponding values. Write a function which takes this dictionary as input and returns number of unique values from all key:value pairs in that dictionary ."
   ]
  },
  {
   "cell_type": "code",
   "execution_count": 51,
   "id": "292fd0df",
   "metadata": {},
   "outputs": [],
   "source": [
    "def unique_ele(my_dict):\n",
    "    unique_values = set(my_dict.values())\n",
    "    return (len(unique_values))"
   ]
  },
  {
   "cell_type": "code",
   "execution_count": 53,
   "id": "86880eb7",
   "metadata": {},
   "outputs": [
    {
     "name": "stdout",
     "output_type": "stream",
     "text": [
      "65\n"
     ]
    }
   ],
   "source": [
    "import random\n",
    "values=[random.randrange(1, 100, 1) for i in range(100)]\n",
    "keys=[]\n",
    "for i in range (1,len(values)+1):\n",
    "    keys.append(\"t\"+str(i))\n",
    "my_dict=dict(zip(keys,values))\n",
    "\n",
    "output=unique_ele(my_dict)\n",
    "print(output)\n",
    "\n",
    "#smart away to create dictionary\n",
    "###### d ={'t'+str(i):np.random.randint(1,101) for i in range(1,101)}\n",
    "#------------------------------------------------------------------------\n",
    "#print(\"Original Dictionary\",my_dict)\n",
    "#print(\"Original Length\",len(my_dict.values()) )\n",
    "#unique_values=set(my_dict.values())\n",
    "#print(\"Unique elements length\",len(unique_values))\n",
    "    "
   ]
  },
  {
   "cell_type": "markdown",
   "id": "c9e59b6d",
   "metadata": {},
   "source": [
    "# Imagine a circle and two squares: a smaller and a bigger one. For the smaller one, the circle is a circumcircle and for the bigger one, an incircle. Create a function, that takes an integer (radius of the circle) and returns the difference of the areas of the two squares."
   ]
  },
  {
   "cell_type": "code",
   "execution_count": 58,
   "id": "9d8e37b5",
   "metadata": {},
   "outputs": [
    {
     "name": "stdout",
     "output_type": "stream",
     "text": [
      "Enter radius: 3\n",
      "Difference of the areas of the two squares:  1.7573593128807143\n"
     ]
    }
   ],
   "source": [
    "import math\n",
    "def area_diff(rad = 1) :\n",
    "    small_sq= math.sqrt(2) * rad **2\n",
    "    large_sq = 2 * rad**2\n",
    "    diff = large_sq - small_sq\n",
    "    return (diff)\n",
    "\n",
    "radius = int (input (\"Enter radius: \"))\n",
    "difference = area_diff (radius)\n",
    "print (\"Difference of the areas of the two squares: \", difference)\n"
   ]
  },
  {
   "cell_type": "markdown",
   "id": "19b48798",
   "metadata": {},
   "source": [
    "# A number is said to be Harshad if it's exactly divisible by the sum of its digits. Create a function that determines whether a number is a Harshad or not. Input to the function will be an integer."
   ]
  },
  {
   "cell_type": "code",
   "execution_count": 5,
   "id": "a1e0707b",
   "metadata": {},
   "outputs": [],
   "source": [
    "def harshad(num):\n",
    "    digits = [int(i) for i in list(str(num))]\n",
    "    return (num % sum(digits) == 0)\n",
    "    \n",
    "#     summ=0\n",
    "#     num_orig=num\n",
    "#     num=list(str(n))\n",
    "#     for i in num:\n",
    "#         #i=int(i)\n",
    "#         summ+=int(i)\n",
    "#     if num_orig % summ ==0:\n",
    "#         print('Number is Harshad')\n",
    "#     else:\n",
    "#         print('Number is not Harshad')"
   ]
  },
  {
   "cell_type": "code",
   "execution_count": 6,
   "id": "244d0925",
   "metadata": {},
   "outputs": [
    {
     "data": {
      "text/plain": [
       "False"
      ]
     },
     "execution_count": 6,
     "metadata": {},
     "output_type": "execute_result"
    }
   ],
   "source": [
    "harshad(145)"
   ]
  },
  {
   "cell_type": "markdown",
   "id": "3c3d52c2",
   "metadata": {},
   "source": [
    "# Write a function which takes an integer n as input and returns sum of all even numbers in the first n terms of a fibonacci series .\n",
    "\n",
    "example input = 7\n",
    "\n",
    "fibonacci series for the same will be : 1,1,2,3,5,8,13\n",
    "\n",
    "output=2+8=10"
   ]
  },
  {
   "cell_type": "code",
   "execution_count": 4,
   "id": "71861ef0",
   "metadata": {},
   "outputs": [],
   "source": [
    "def fibo(n):\n",
    "    fib_series=[1,1]\n",
    "    summ=0\n",
    "    ctr=2\n",
    "\n",
    "    while ctr<n:\n",
    "        fib_series.append(fib_series[-1]+fib_series[-2])\n",
    "        ctr+=1\n",
    "        \n",
    "    return(fib_series)\n",
    "\n"
   ]
  },
  {
   "cell_type": "code",
   "execution_count": 5,
   "id": "2e4f40c8",
   "metadata": {},
   "outputs": [],
   "source": [
    "def fibo_evensum(n):\n",
    "    even=[x for x in fibo(n) if x%2==0]\n",
    "    return (sum(even))"
   ]
  },
  {
   "cell_type": "code",
   "execution_count": 6,
   "id": "8c7d9030",
   "metadata": {},
   "outputs": [
    {
     "data": {
      "text/plain": [
       "10"
      ]
     },
     "execution_count": 6,
     "metadata": {},
     "output_type": "execute_result"
    }
   ],
   "source": [
    "fibo_evensum(7)"
   ]
  },
  {
   "cell_type": "markdown",
   "id": "db0ddb23",
   "metadata": {},
   "source": [
    "# Write a function which takes input an english sentence of any length , and a set containing some stop words. Function then removes all stop words from the sentence and returns a dictionary where keys are all unique words in the sentence and values are their count in the sentence ."
   ]
  },
  {
   "cell_type": "code",
   "execution_count": 16,
   "id": "5ce683b7",
   "metadata": {},
   "outputs": [],
   "source": [
    "def del_stop(string,stop):\n",
    "    string = string.split()\n",
    "    new_str = [ele for ele in string if ele not in stop]\n",
    "    print(new_str)\n",
    "    \n",
    "    d={}\n",
    "    for word in set(new_str):\n",
    "        d[word]=new_str.count(word)\n",
    "    return (d)"
   ]
  },
  {
   "cell_type": "code",
   "execution_count": 17,
   "id": "3d48d75e",
   "metadata": {},
   "outputs": [
    {
     "name": "stdout",
     "output_type": "stream",
     "text": [
      "['that', 'live', 'jorhat', 'also', 'live', 'assam', 'which', 'ne', 'india', 'life', 'good']\n"
     ]
    },
    {
     "data": {
      "text/plain": [
       "{'life': 1,\n",
       " 'assam': 1,\n",
       " 'that': 1,\n",
       " 'also': 1,\n",
       " 'ne': 1,\n",
       " 'jorhat': 1,\n",
       " 'india': 1,\n",
       " 'good': 1,\n",
       " 'live': 2,\n",
       " 'which': 1}"
      ]
     },
     "execution_count": 17,
     "metadata": {},
     "output_type": "execute_result"
    }
   ],
   "source": [
    "string = 'that i live in jorhat and also i live in assam which is in ne india and life is good '\n",
    "stop ={'i','in','and','is'}\n",
    "del_stop(string,stop)"
   ]
  },
  {
   "cell_type": "markdown",
   "id": "1bf4ec57",
   "metadata": {},
   "source": [
    "# ['H-73, MDT, Powai , Mumbai' , '1604, SS, Hyderabad' ,'B block 73, Adyar, Chennai'] Extract cities from each address, use list comprehension ."
   ]
  },
  {
   "cell_type": "code",
   "execution_count": 31,
   "id": "c68f7830",
   "metadata": {},
   "outputs": [
    {
     "data": {
      "text/plain": [
       "['H-73', ' MDT', ' Powai ', ' Mumbai']"
      ]
     },
     "execution_count": 31,
     "metadata": {},
     "output_type": "execute_result"
    }
   ],
   "source": [
    "my_list= ['H-73, MDT, Powai , Mumbai' , '1604, SS, Hyderabad' ,'B block 73, Adyar, Chennai']\n",
    "my_list[0].split(',')"
   ]
  },
  {
   "cell_type": "code",
   "execution_count": 34,
   "id": "02d898de",
   "metadata": {},
   "outputs": [],
   "source": [
    "cities=[i.split(',')[-1] for i in my_list]"
   ]
  },
  {
   "cell_type": "code",
   "execution_count": 35,
   "id": "41603cd1",
   "metadata": {},
   "outputs": [
    {
     "data": {
      "text/plain": [
       "[' Mumbai', ' Hyderabad', ' Chennai']"
      ]
     },
     "execution_count": 35,
     "metadata": {},
     "output_type": "execute_result"
    }
   ],
   "source": [
    "cities"
   ]
  },
  {
   "cell_type": "markdown",
   "id": "753f7ee1",
   "metadata": {},
   "source": [
    "# given a list , create a dictionary with counts of unique elements that it contains \n",
    "input list =\n",
    "['a','b','a','a','b','c','c','a','b'] output dictionary = {'a':4,'b':3,'c':2}"
   ]
  },
  {
   "cell_type": "code",
   "execution_count": 41,
   "id": "a6a244f7",
   "metadata": {},
   "outputs": [],
   "source": [
    "in_list=['a','a','a','b','a','a','b','c','c','a','b']"
   ]
  },
  {
   "cell_type": "code",
   "execution_count": 43,
   "id": "814320bb",
   "metadata": {},
   "outputs": [],
   "source": [
    "my_dict={}\n",
    "out_dict={ele: in_list.count(ele) for ele in set(in_list)}\n",
    "    "
   ]
  },
  {
   "cell_type": "code",
   "execution_count": 44,
   "id": "1f9b3764",
   "metadata": {},
   "outputs": [
    {
     "data": {
      "text/plain": [
       "{'a': 6, 'c': 2, 'b': 3}"
      ]
     },
     "execution_count": 44,
     "metadata": {},
     "output_type": "execute_result"
    }
   ],
   "source": [
    "out_dict"
   ]
  },
  {
   "cell_type": "code",
   "execution_count": null,
   "id": "e652570e",
   "metadata": {},
   "outputs": [],
   "source": []
  }
 ],
 "metadata": {
  "kernelspec": {
   "display_name": "Python 3 (ipykernel)",
   "language": "python",
   "name": "python3"
  },
  "language_info": {
   "codemirror_mode": {
    "name": "ipython",
    "version": 3
   },
   "file_extension": ".py",
   "mimetype": "text/x-python",
   "name": "python",
   "nbconvert_exporter": "python",
   "pygments_lexer": "ipython3",
   "version": "3.10.0"
  }
 },
 "nbformat": 4,
 "nbformat_minor": 5
}
